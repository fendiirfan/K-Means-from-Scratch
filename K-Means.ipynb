{
  "nbformat": 4,
  "nbformat_minor": 0,
  "metadata": {
    "colab": {
      "name": "Tubes Clustering Fendi.ipynb",
      "provenance": [],
      "collapsed_sections": [],
      "include_colab_link": true
    },
    "kernelspec": {
      "name": "python3",
      "display_name": "Python 3"
    },
    "language_info": {
      "name": "python"
    },
    "accelerator": "GPU"
  },
  "cells": [
    {
      "cell_type": "markdown",
      "metadata": {
        "id": "view-in-github",
        "colab_type": "text"
      },
      "source": [
        "<a href=\"https://colab.research.google.com/github/fendiirfan/K-Means-from-Scratch/blob/main/K-Means.ipynb\" target=\"_parent\"><img src=\"https://colab.research.google.com/assets/colab-badge.svg\" alt=\"Open In Colab\"/></a>"
      ]
    },
    {
      "cell_type": "code",
      "metadata": {
        "id": "SoCIbDT9nNP0"
      },
      "source": [
        "import numpy as np\n",
        "import pandas as pd\n",
        "import matplotlib.pyplot as plt\n",
        "import seaborn as sns\n",
        "from sklearn.preprocessing import StandardScaler"
      ],
      "execution_count": 84,
      "outputs": []
    },
    {
      "cell_type": "markdown",
      "metadata": {
        "id": "aWnHKtHOXiSQ"
      },
      "source": [
        "Tugas clustering (unsupervised Learning) adalah mengelompokkan pelanggan berdasarkan data pelanggan di dealer tanpa memperhatikan label kelas apakah pelanggan tertarik untuk membeli kendaraan baru atau tidak. \n",
        "\n",
        "Tugas classification (supervised learning) adalah memprediksi apakah pelanggan tertarik untuk membeli kendaraan baru atau tidak berdasarkan data pelanggan di dealer.\n",
        "\n",
        "\n",
        "SIM\t--> 0 : Tidak punya SIM 1 : Punya SIM\n",
        "Kode_Daerah --> Kode area tempat tinggal pelanggan\n",
        "Sudah_Asuransi --> 1 : Pelanggan sudah memiliki asuransi kendaraan, 0 : Pelanggan belum memiliki asuransi kendaraan\n",
        "Umur_Kendaraan --> Umur kendaraan\n",
        "Kendaraan_Rusak --> 1 : Kendaraan pernah rusak sebelumnya. 0 : Kendaraan belum pernah rusak.\n",
        "Premi --> Jumlah premi yang harus dibayarkan per tahun.\n",
        "Kanal_Penjualan --> Kode kanal untuk menghubungi pelanggan (email, telpon, dll)\n",
        "Lama_Berlangganan\t--> Sudah berapa lama pelanggan menjadi klien perusahaan\n",
        "Tertarik --> 1 : Pelanggan tertarik, 0 : Pelanggan tidak tertarik"
      ]
    },
    {
      "cell_type": "code",
      "metadata": {
        "id": "YL__OJcon7aL"
      },
      "source": [
        "df_train = pd.read_csv('https://raw.githubusercontent.com/fendiirfan/K-Means-from-Scratch/main/kendaraan_train.csv')\n",
        "df_test = pd.read_csv('https://raw.githubusercontent.com/fendiirfan/K-Means-from-Scratch/main/kendaraan_test.csv')"
      ],
      "execution_count": 85,
      "outputs": []
    },
    {
      "cell_type": "markdown",
      "metadata": {
        "id": "MJeR3W8F-7Ak"
      },
      "source": [
        "# EDA & Preprocessing"
      ]
    },
    {
      "cell_type": "code",
      "metadata": {
        "colab": {
          "base_uri": "https://localhost:8080/",
          "height": 206
        },
        "id": "P97TtUewXSXs",
        "outputId": "892e99b9-d785-4610-c856-3e5fba5bd1da"
      },
      "source": [
        "df_training_model = df_train.copy()\n",
        "df_training_model.head()"
      ],
      "execution_count": 86,
      "outputs": [
        {
          "output_type": "execute_result",
          "data": {
            "text/html": [
              "<div>\n",
              "<style scoped>\n",
              "    .dataframe tbody tr th:only-of-type {\n",
              "        vertical-align: middle;\n",
              "    }\n",
              "\n",
              "    .dataframe tbody tr th {\n",
              "        vertical-align: top;\n",
              "    }\n",
              "\n",
              "    .dataframe thead th {\n",
              "        text-align: right;\n",
              "    }\n",
              "</style>\n",
              "<table border=\"1\" class=\"dataframe\">\n",
              "  <thead>\n",
              "    <tr style=\"text-align: right;\">\n",
              "      <th></th>\n",
              "      <th>id</th>\n",
              "      <th>Jenis_Kelamin</th>\n",
              "      <th>Umur</th>\n",
              "      <th>SIM</th>\n",
              "      <th>Kode_Daerah</th>\n",
              "      <th>Sudah_Asuransi</th>\n",
              "      <th>Umur_Kendaraan</th>\n",
              "      <th>Kendaraan_Rusak</th>\n",
              "      <th>Premi</th>\n",
              "      <th>Kanal_Penjualan</th>\n",
              "      <th>Lama_Berlangganan</th>\n",
              "      <th>Tertarik</th>\n",
              "    </tr>\n",
              "  </thead>\n",
              "  <tbody>\n",
              "    <tr>\n",
              "      <th>0</th>\n",
              "      <td>1</td>\n",
              "      <td>Wanita</td>\n",
              "      <td>30.0</td>\n",
              "      <td>1.0</td>\n",
              "      <td>33.0</td>\n",
              "      <td>1.0</td>\n",
              "      <td>&lt; 1 Tahun</td>\n",
              "      <td>Tidak</td>\n",
              "      <td>28029.0</td>\n",
              "      <td>152.0</td>\n",
              "      <td>97.0</td>\n",
              "      <td>0</td>\n",
              "    </tr>\n",
              "    <tr>\n",
              "      <th>1</th>\n",
              "      <td>2</td>\n",
              "      <td>Pria</td>\n",
              "      <td>48.0</td>\n",
              "      <td>1.0</td>\n",
              "      <td>39.0</td>\n",
              "      <td>0.0</td>\n",
              "      <td>&gt; 2 Tahun</td>\n",
              "      <td>Pernah</td>\n",
              "      <td>25800.0</td>\n",
              "      <td>29.0</td>\n",
              "      <td>158.0</td>\n",
              "      <td>0</td>\n",
              "    </tr>\n",
              "    <tr>\n",
              "      <th>2</th>\n",
              "      <td>3</td>\n",
              "      <td>NaN</td>\n",
              "      <td>21.0</td>\n",
              "      <td>1.0</td>\n",
              "      <td>46.0</td>\n",
              "      <td>1.0</td>\n",
              "      <td>&lt; 1 Tahun</td>\n",
              "      <td>Tidak</td>\n",
              "      <td>32733.0</td>\n",
              "      <td>160.0</td>\n",
              "      <td>119.0</td>\n",
              "      <td>0</td>\n",
              "    </tr>\n",
              "    <tr>\n",
              "      <th>3</th>\n",
              "      <td>4</td>\n",
              "      <td>Wanita</td>\n",
              "      <td>58.0</td>\n",
              "      <td>1.0</td>\n",
              "      <td>48.0</td>\n",
              "      <td>0.0</td>\n",
              "      <td>1-2 Tahun</td>\n",
              "      <td>Tidak</td>\n",
              "      <td>2630.0</td>\n",
              "      <td>124.0</td>\n",
              "      <td>63.0</td>\n",
              "      <td>0</td>\n",
              "    </tr>\n",
              "    <tr>\n",
              "      <th>4</th>\n",
              "      <td>5</td>\n",
              "      <td>Pria</td>\n",
              "      <td>50.0</td>\n",
              "      <td>1.0</td>\n",
              "      <td>35.0</td>\n",
              "      <td>0.0</td>\n",
              "      <td>&gt; 2 Tahun</td>\n",
              "      <td>NaN</td>\n",
              "      <td>34857.0</td>\n",
              "      <td>88.0</td>\n",
              "      <td>194.0</td>\n",
              "      <td>0</td>\n",
              "    </tr>\n",
              "  </tbody>\n",
              "</table>\n",
              "</div>"
            ],
            "text/plain": [
              "   id Jenis_Kelamin  Umur  ...  Kanal_Penjualan  Lama_Berlangganan  Tertarik\n",
              "0   1        Wanita  30.0  ...            152.0               97.0         0\n",
              "1   2          Pria  48.0  ...             29.0              158.0         0\n",
              "2   3           NaN  21.0  ...            160.0              119.0         0\n",
              "3   4        Wanita  58.0  ...            124.0               63.0         0\n",
              "4   5          Pria  50.0  ...             88.0              194.0         0\n",
              "\n",
              "[5 rows x 12 columns]"
            ]
          },
          "metadata": {},
          "execution_count": 86
        }
      ]
    },
    {
      "cell_type": "code",
      "metadata": {
        "colab": {
          "base_uri": "https://localhost:8080/"
        },
        "id": "pFqZqJgUEkWD",
        "outputId": "48c9c148-3faf-4ee4-94b1-36bcdcbc7e65"
      },
      "source": [
        "df_training_model['Umur_Kendaraan'].dtypes == 'O'"
      ],
      "execution_count": 87,
      "outputs": [
        {
          "output_type": "execute_result",
          "data": {
            "text/plain": [
              "True"
            ]
          },
          "metadata": {},
          "execution_count": 87
        }
      ]
    },
    {
      "cell_type": "code",
      "metadata": {
        "colab": {
          "base_uri": "https://localhost:8080/"
        },
        "id": "wKZSD66GERz4",
        "outputId": "9b19ccc1-5377-4089-984a-d5ad9e92ffad"
      },
      "source": [
        "for columns in df_training_model.columns:\n",
        "  if df_training_model[columns].dtypes== 'O':\n",
        "    print(f'{columns} \\n{df_training_model[columns].value_counts()},\\n')"
      ],
      "execution_count": 88,
      "outputs": [
        {
          "output_type": "stream",
          "name": "stdout",
          "text": [
            "Jenis_Kelamin \n",
            "Pria      146678\n",
            "Wanita    124713\n",
            "Name: Jenis_Kelamin, dtype: int64,\n",
            "\n",
            "Umur_Kendaraan \n",
            "1-2 Tahun    142761\n",
            "< 1 Tahun    117378\n",
            "> 2 Tahun     11417\n",
            "Name: Umur_Kendaraan, dtype: int64,\n",
            "\n",
            "Kendaraan_Rusak \n",
            "Pernah    137123\n",
            "Tidak     134520\n",
            "Name: Kendaraan_Rusak, dtype: int64,\n",
            "\n"
          ]
        }
      ]
    },
    {
      "cell_type": "code",
      "metadata": {
        "colab": {
          "base_uri": "https://localhost:8080/"
        },
        "id": "P_YB-eXZ_BjW",
        "outputId": "91662085-4830-4747-c3ac-f7d4754ebc00"
      },
      "source": [
        "df_training_model.isnull().sum()"
      ],
      "execution_count": 89,
      "outputs": [
        {
          "output_type": "execute_result",
          "data": {
            "text/plain": [
              "id                       0\n",
              "Jenis_Kelamin        14440\n",
              "Umur                 14214\n",
              "SIM                  14404\n",
              "Kode_Daerah          14306\n",
              "Sudah_Asuransi       14229\n",
              "Umur_Kendaraan       14275\n",
              "Kendaraan_Rusak      14188\n",
              "Premi                14569\n",
              "Kanal_Penjualan      14299\n",
              "Lama_Berlangganan    13992\n",
              "Tertarik                 0\n",
              "dtype: int64"
            ]
          },
          "metadata": {},
          "execution_count": 89
        }
      ]
    },
    {
      "cell_type": "code",
      "metadata": {
        "id": "_rmXUKYK_HAp"
      },
      "source": [
        "df_training_model = df_training_model.dropna().reset_index()"
      ],
      "execution_count": 90,
      "outputs": []
    },
    {
      "cell_type": "code",
      "metadata": {
        "colab": {
          "base_uri": "https://localhost:8080/"
        },
        "id": "rvPkm9myUXO5",
        "outputId": "03c56737-0842-4504-871d-f6a42a2ea90a"
      },
      "source": [
        "df_training_model['Tertarik'].value_counts()"
      ],
      "execution_count": 91,
      "outputs": [
        {
          "output_type": "execute_result",
          "data": {
            "text/plain": [
              "0    150270\n",
              "1     20798\n",
              "Name: Tertarik, dtype: int64"
            ]
          },
          "metadata": {},
          "execution_count": 91
        }
      ]
    },
    {
      "cell_type": "code",
      "metadata": {
        "id": "b1RZ_hSoFprD"
      },
      "source": [
        "'''\n",
        "Mengubah value dari kolom yang berjenis kategori menjadi angka\n",
        "pada kolom \n",
        "'''\n",
        "df_training_model = df_training_model.replace({'Pria':1,\n",
        "                                               'Wanita':0,\n",
        "                                               '< 1 Tahun':0,\n",
        "                                               '1-2 Tahun':1,\n",
        "                                               '> 2 Tahun':2,\n",
        "                                               'Pernah':1,\n",
        "                                               'Tidak':0\n",
        "                                               })"
      ],
      "execution_count": 92,
      "outputs": []
    },
    {
      "cell_type": "code",
      "metadata": {
        "colab": {
          "base_uri": "https://localhost:8080/",
          "height": 206
        },
        "id": "Ch2V2ajRJ1-o",
        "outputId": "953976dc-1c17-49ea-a8ef-442a984f3194"
      },
      "source": [
        "df_training_model.head()"
      ],
      "execution_count": 93,
      "outputs": [
        {
          "output_type": "execute_result",
          "data": {
            "text/html": [
              "<div>\n",
              "<style scoped>\n",
              "    .dataframe tbody tr th:only-of-type {\n",
              "        vertical-align: middle;\n",
              "    }\n",
              "\n",
              "    .dataframe tbody tr th {\n",
              "        vertical-align: top;\n",
              "    }\n",
              "\n",
              "    .dataframe thead th {\n",
              "        text-align: right;\n",
              "    }\n",
              "</style>\n",
              "<table border=\"1\" class=\"dataframe\">\n",
              "  <thead>\n",
              "    <tr style=\"text-align: right;\">\n",
              "      <th></th>\n",
              "      <th>index</th>\n",
              "      <th>id</th>\n",
              "      <th>Jenis_Kelamin</th>\n",
              "      <th>Umur</th>\n",
              "      <th>SIM</th>\n",
              "      <th>Kode_Daerah</th>\n",
              "      <th>Sudah_Asuransi</th>\n",
              "      <th>Umur_Kendaraan</th>\n",
              "      <th>Kendaraan_Rusak</th>\n",
              "      <th>Premi</th>\n",
              "      <th>Kanal_Penjualan</th>\n",
              "      <th>Lama_Berlangganan</th>\n",
              "      <th>Tertarik</th>\n",
              "    </tr>\n",
              "  </thead>\n",
              "  <tbody>\n",
              "    <tr>\n",
              "      <th>0</th>\n",
              "      <td>0</td>\n",
              "      <td>1</td>\n",
              "      <td>0</td>\n",
              "      <td>30.0</td>\n",
              "      <td>1.0</td>\n",
              "      <td>33.0</td>\n",
              "      <td>1.0</td>\n",
              "      <td>0</td>\n",
              "      <td>0</td>\n",
              "      <td>28029.0</td>\n",
              "      <td>152.0</td>\n",
              "      <td>97.0</td>\n",
              "      <td>0</td>\n",
              "    </tr>\n",
              "    <tr>\n",
              "      <th>1</th>\n",
              "      <td>1</td>\n",
              "      <td>2</td>\n",
              "      <td>1</td>\n",
              "      <td>48.0</td>\n",
              "      <td>1.0</td>\n",
              "      <td>39.0</td>\n",
              "      <td>0.0</td>\n",
              "      <td>2</td>\n",
              "      <td>1</td>\n",
              "      <td>25800.0</td>\n",
              "      <td>29.0</td>\n",
              "      <td>158.0</td>\n",
              "      <td>0</td>\n",
              "    </tr>\n",
              "    <tr>\n",
              "      <th>2</th>\n",
              "      <td>3</td>\n",
              "      <td>4</td>\n",
              "      <td>0</td>\n",
              "      <td>58.0</td>\n",
              "      <td>1.0</td>\n",
              "      <td>48.0</td>\n",
              "      <td>0.0</td>\n",
              "      <td>1</td>\n",
              "      <td>0</td>\n",
              "      <td>2630.0</td>\n",
              "      <td>124.0</td>\n",
              "      <td>63.0</td>\n",
              "      <td>0</td>\n",
              "    </tr>\n",
              "    <tr>\n",
              "      <th>3</th>\n",
              "      <td>5</td>\n",
              "      <td>6</td>\n",
              "      <td>1</td>\n",
              "      <td>21.0</td>\n",
              "      <td>1.0</td>\n",
              "      <td>35.0</td>\n",
              "      <td>1.0</td>\n",
              "      <td>0</td>\n",
              "      <td>0</td>\n",
              "      <td>22735.0</td>\n",
              "      <td>152.0</td>\n",
              "      <td>171.0</td>\n",
              "      <td>0</td>\n",
              "    </tr>\n",
              "    <tr>\n",
              "      <th>4</th>\n",
              "      <td>8</td>\n",
              "      <td>9</td>\n",
              "      <td>0</td>\n",
              "      <td>20.0</td>\n",
              "      <td>1.0</td>\n",
              "      <td>8.0</td>\n",
              "      <td>1.0</td>\n",
              "      <td>0</td>\n",
              "      <td>0</td>\n",
              "      <td>30786.0</td>\n",
              "      <td>160.0</td>\n",
              "      <td>31.0</td>\n",
              "      <td>0</td>\n",
              "    </tr>\n",
              "  </tbody>\n",
              "</table>\n",
              "</div>"
            ],
            "text/plain": [
              "   index  id  Jenis_Kelamin  ...  Kanal_Penjualan  Lama_Berlangganan  Tertarik\n",
              "0      0   1              0  ...            152.0               97.0         0\n",
              "1      1   2              1  ...             29.0              158.0         0\n",
              "2      3   4              0  ...            124.0               63.0         0\n",
              "3      5   6              1  ...            152.0              171.0         0\n",
              "4      8   9              0  ...            160.0               31.0         0\n",
              "\n",
              "[5 rows x 13 columns]"
            ]
          },
          "metadata": {},
          "execution_count": 93
        }
      ]
    },
    {
      "cell_type": "code",
      "metadata": {
        "id": "jRj8agj8XaWV",
        "colab": {
          "base_uri": "https://localhost:8080/",
          "height": 320
        },
        "outputId": "e8ad1451-0619-4e77-965e-f714f1ee234e"
      },
      "source": [
        "df_training_model.describe()"
      ],
      "execution_count": 94,
      "outputs": [
        {
          "output_type": "execute_result",
          "data": {
            "text/html": [
              "<div>\n",
              "<style scoped>\n",
              "    .dataframe tbody tr th:only-of-type {\n",
              "        vertical-align: middle;\n",
              "    }\n",
              "\n",
              "    .dataframe tbody tr th {\n",
              "        vertical-align: top;\n",
              "    }\n",
              "\n",
              "    .dataframe thead th {\n",
              "        text-align: right;\n",
              "    }\n",
              "</style>\n",
              "<table border=\"1\" class=\"dataframe\">\n",
              "  <thead>\n",
              "    <tr style=\"text-align: right;\">\n",
              "      <th></th>\n",
              "      <th>index</th>\n",
              "      <th>id</th>\n",
              "      <th>Jenis_Kelamin</th>\n",
              "      <th>Umur</th>\n",
              "      <th>SIM</th>\n",
              "      <th>Kode_Daerah</th>\n",
              "      <th>Sudah_Asuransi</th>\n",
              "      <th>Umur_Kendaraan</th>\n",
              "      <th>Kendaraan_Rusak</th>\n",
              "      <th>Premi</th>\n",
              "      <th>Kanal_Penjualan</th>\n",
              "      <th>Lama_Berlangganan</th>\n",
              "      <th>Tertarik</th>\n",
              "    </tr>\n",
              "  </thead>\n",
              "  <tbody>\n",
              "    <tr>\n",
              "      <th>count</th>\n",
              "      <td>171068.000000</td>\n",
              "      <td>171068.000000</td>\n",
              "      <td>171068.000000</td>\n",
              "      <td>171068.000000</td>\n",
              "      <td>171068.000000</td>\n",
              "      <td>171068.000000</td>\n",
              "      <td>171068.000000</td>\n",
              "      <td>171068.000000</td>\n",
              "      <td>171068.000000</td>\n",
              "      <td>171068.000000</td>\n",
              "      <td>171068.000000</td>\n",
              "      <td>171068.000000</td>\n",
              "      <td>171068.000000</td>\n",
              "    </tr>\n",
              "    <tr>\n",
              "      <th>mean</th>\n",
              "      <td>142793.020729</td>\n",
              "      <td>142794.020729</td>\n",
              "      <td>0.540662</td>\n",
              "      <td>38.818137</td>\n",
              "      <td>0.997931</td>\n",
              "      <td>26.411334</td>\n",
              "      <td>0.459794</td>\n",
              "      <td>0.607998</td>\n",
              "      <td>0.504443</td>\n",
              "      <td>30506.747282</td>\n",
              "      <td>112.260206</td>\n",
              "      <td>154.253063</td>\n",
              "      <td>0.121577</td>\n",
              "    </tr>\n",
              "    <tr>\n",
              "      <th>std</th>\n",
              "      <td>82491.716355</td>\n",
              "      <td>82491.716355</td>\n",
              "      <td>0.498345</td>\n",
              "      <td>15.531695</td>\n",
              "      <td>0.045443</td>\n",
              "      <td>13.262377</td>\n",
              "      <td>0.498382</td>\n",
              "      <td>0.567626</td>\n",
              "      <td>0.499982</td>\n",
              "      <td>17090.409733</td>\n",
              "      <td>54.106712</td>\n",
              "      <td>83.862579</td>\n",
              "      <td>0.326798</td>\n",
              "    </tr>\n",
              "    <tr>\n",
              "      <th>min</th>\n",
              "      <td>0.000000</td>\n",
              "      <td>1.000000</td>\n",
              "      <td>0.000000</td>\n",
              "      <td>20.000000</td>\n",
              "      <td>0.000000</td>\n",
              "      <td>0.000000</td>\n",
              "      <td>0.000000</td>\n",
              "      <td>0.000000</td>\n",
              "      <td>0.000000</td>\n",
              "      <td>2630.000000</td>\n",
              "      <td>1.000000</td>\n",
              "      <td>10.000000</td>\n",
              "      <td>0.000000</td>\n",
              "    </tr>\n",
              "    <tr>\n",
              "      <th>25%</th>\n",
              "      <td>71349.750000</td>\n",
              "      <td>71350.750000</td>\n",
              "      <td>0.000000</td>\n",
              "      <td>25.000000</td>\n",
              "      <td>1.000000</td>\n",
              "      <td>15.000000</td>\n",
              "      <td>0.000000</td>\n",
              "      <td>0.000000</td>\n",
              "      <td>0.000000</td>\n",
              "      <td>24369.750000</td>\n",
              "      <td>29.000000</td>\n",
              "      <td>81.000000</td>\n",
              "      <td>0.000000</td>\n",
              "    </tr>\n",
              "    <tr>\n",
              "      <th>50%</th>\n",
              "      <td>142767.000000</td>\n",
              "      <td>142768.000000</td>\n",
              "      <td>1.000000</td>\n",
              "      <td>36.000000</td>\n",
              "      <td>1.000000</td>\n",
              "      <td>28.000000</td>\n",
              "      <td>0.000000</td>\n",
              "      <td>1.000000</td>\n",
              "      <td>1.000000</td>\n",
              "      <td>31603.000000</td>\n",
              "      <td>140.000000</td>\n",
              "      <td>154.000000</td>\n",
              "      <td>0.000000</td>\n",
              "    </tr>\n",
              "    <tr>\n",
              "      <th>75%</th>\n",
              "      <td>214069.250000</td>\n",
              "      <td>214070.250000</td>\n",
              "      <td>1.000000</td>\n",
              "      <td>49.000000</td>\n",
              "      <td>1.000000</td>\n",
              "      <td>35.000000</td>\n",
              "      <td>1.000000</td>\n",
              "      <td>1.000000</td>\n",
              "      <td>1.000000</td>\n",
              "      <td>39323.250000</td>\n",
              "      <td>152.000000</td>\n",
              "      <td>227.000000</td>\n",
              "      <td>0.000000</td>\n",
              "    </tr>\n",
              "    <tr>\n",
              "      <th>max</th>\n",
              "      <td>285830.000000</td>\n",
              "      <td>285831.000000</td>\n",
              "      <td>1.000000</td>\n",
              "      <td>85.000000</td>\n",
              "      <td>1.000000</td>\n",
              "      <td>52.000000</td>\n",
              "      <td>1.000000</td>\n",
              "      <td>2.000000</td>\n",
              "      <td>1.000000</td>\n",
              "      <td>540165.000000</td>\n",
              "      <td>163.000000</td>\n",
              "      <td>299.000000</td>\n",
              "      <td>1.000000</td>\n",
              "    </tr>\n",
              "  </tbody>\n",
              "</table>\n",
              "</div>"
            ],
            "text/plain": [
              "               index             id  ...  Lama_Berlangganan       Tertarik\n",
              "count  171068.000000  171068.000000  ...      171068.000000  171068.000000\n",
              "mean   142793.020729  142794.020729  ...         154.253063       0.121577\n",
              "std     82491.716355   82491.716355  ...          83.862579       0.326798\n",
              "min         0.000000       1.000000  ...          10.000000       0.000000\n",
              "25%     71349.750000   71350.750000  ...          81.000000       0.000000\n",
              "50%    142767.000000  142768.000000  ...         154.000000       0.000000\n",
              "75%    214069.250000  214070.250000  ...         227.000000       0.000000\n",
              "max    285830.000000  285831.000000  ...         299.000000       1.000000\n",
              "\n",
              "[8 rows x 13 columns]"
            ]
          },
          "metadata": {},
          "execution_count": 94
        }
      ]
    },
    {
      "cell_type": "code",
      "metadata": {
        "colab": {
          "base_uri": "https://localhost:8080/",
          "height": 477
        },
        "id": "C_l6Xe_8pCTb",
        "outputId": "c15246ad-06bc-4f15-e3bc-41277a78744e"
      },
      "source": [
        "df_training_model.corr()"
      ],
      "execution_count": 95,
      "outputs": [
        {
          "output_type": "execute_result",
          "data": {
            "text/html": [
              "<div>\n",
              "<style scoped>\n",
              "    .dataframe tbody tr th:only-of-type {\n",
              "        vertical-align: middle;\n",
              "    }\n",
              "\n",
              "    .dataframe tbody tr th {\n",
              "        vertical-align: top;\n",
              "    }\n",
              "\n",
              "    .dataframe thead th {\n",
              "        text-align: right;\n",
              "    }\n",
              "</style>\n",
              "<table border=\"1\" class=\"dataframe\">\n",
              "  <thead>\n",
              "    <tr style=\"text-align: right;\">\n",
              "      <th></th>\n",
              "      <th>index</th>\n",
              "      <th>id</th>\n",
              "      <th>Jenis_Kelamin</th>\n",
              "      <th>Umur</th>\n",
              "      <th>SIM</th>\n",
              "      <th>Kode_Daerah</th>\n",
              "      <th>Sudah_Asuransi</th>\n",
              "      <th>Umur_Kendaraan</th>\n",
              "      <th>Kendaraan_Rusak</th>\n",
              "      <th>Premi</th>\n",
              "      <th>Kanal_Penjualan</th>\n",
              "      <th>Lama_Berlangganan</th>\n",
              "      <th>Tertarik</th>\n",
              "    </tr>\n",
              "  </thead>\n",
              "  <tbody>\n",
              "    <tr>\n",
              "      <th>index</th>\n",
              "      <td>1.000000</td>\n",
              "      <td>1.000000</td>\n",
              "      <td>-0.002391</td>\n",
              "      <td>0.003523</td>\n",
              "      <td>-0.004080</td>\n",
              "      <td>0.000719</td>\n",
              "      <td>-0.003694</td>\n",
              "      <td>0.003093</td>\n",
              "      <td>0.003068</td>\n",
              "      <td>0.002145</td>\n",
              "      <td>-0.001707</td>\n",
              "      <td>0.002600</td>\n",
              "      <td>0.000004</td>\n",
              "    </tr>\n",
              "    <tr>\n",
              "      <th>id</th>\n",
              "      <td>1.000000</td>\n",
              "      <td>1.000000</td>\n",
              "      <td>-0.002391</td>\n",
              "      <td>0.003523</td>\n",
              "      <td>-0.004080</td>\n",
              "      <td>0.000719</td>\n",
              "      <td>-0.003694</td>\n",
              "      <td>0.003093</td>\n",
              "      <td>0.003068</td>\n",
              "      <td>0.002145</td>\n",
              "      <td>-0.001707</td>\n",
              "      <td>0.002600</td>\n",
              "      <td>0.000004</td>\n",
              "    </tr>\n",
              "    <tr>\n",
              "      <th>Jenis_Kelamin</th>\n",
              "      <td>-0.002391</td>\n",
              "      <td>-0.002391</td>\n",
              "      <td>1.000000</td>\n",
              "      <td>0.145438</td>\n",
              "      <td>-0.018742</td>\n",
              "      <td>0.002656</td>\n",
              "      <td>-0.082809</td>\n",
              "      <td>0.160203</td>\n",
              "      <td>0.092064</td>\n",
              "      <td>0.003023</td>\n",
              "      <td>-0.114058</td>\n",
              "      <td>-0.002175</td>\n",
              "      <td>0.053709</td>\n",
              "    </tr>\n",
              "    <tr>\n",
              "      <th>Umur</th>\n",
              "      <td>0.003523</td>\n",
              "      <td>0.003523</td>\n",
              "      <td>0.145438</td>\n",
              "      <td>1.000000</td>\n",
              "      <td>-0.078543</td>\n",
              "      <td>0.044256</td>\n",
              "      <td>-0.256815</td>\n",
              "      <td>0.766604</td>\n",
              "      <td>0.269755</td>\n",
              "      <td>0.063838</td>\n",
              "      <td>-0.576009</td>\n",
              "      <td>-0.001032</td>\n",
              "      <td>0.108912</td>\n",
              "    </tr>\n",
              "    <tr>\n",
              "      <th>SIM</th>\n",
              "      <td>-0.004080</td>\n",
              "      <td>-0.004080</td>\n",
              "      <td>-0.018742</td>\n",
              "      <td>-0.078543</td>\n",
              "      <td>1.000000</td>\n",
              "      <td>-0.005862</td>\n",
              "      <td>0.016459</td>\n",
              "      <td>-0.036660</td>\n",
              "      <td>-0.019149</td>\n",
              "      <td>-0.012864</td>\n",
              "      <td>0.041575</td>\n",
              "      <td>0.001739</td>\n",
              "      <td>0.008675</td>\n",
              "    </tr>\n",
              "    <tr>\n",
              "      <th>Kode_Daerah</th>\n",
              "      <td>0.000719</td>\n",
              "      <td>0.000719</td>\n",
              "      <td>0.002656</td>\n",
              "      <td>0.044256</td>\n",
              "      <td>-0.005862</td>\n",
              "      <td>1.000000</td>\n",
              "      <td>-0.024393</td>\n",
              "      <td>0.043637</td>\n",
              "      <td>0.026729</td>\n",
              "      <td>-0.012462</td>\n",
              "      <td>-0.043988</td>\n",
              "      <td>-0.003798</td>\n",
              "      <td>0.011152</td>\n",
              "    </tr>\n",
              "    <tr>\n",
              "      <th>Sudah_Asuransi</th>\n",
              "      <td>-0.003694</td>\n",
              "      <td>-0.003694</td>\n",
              "      <td>-0.082809</td>\n",
              "      <td>-0.256815</td>\n",
              "      <td>0.016459</td>\n",
              "      <td>-0.024393</td>\n",
              "      <td>1.000000</td>\n",
              "      <td>-0.382045</td>\n",
              "      <td>-0.826157</td>\n",
              "      <td>0.003988</td>\n",
              "      <td>0.221583</td>\n",
              "      <td>0.002902</td>\n",
              "      <td>-0.340711</td>\n",
              "    </tr>\n",
              "    <tr>\n",
              "      <th>Umur_Kendaraan</th>\n",
              "      <td>0.003093</td>\n",
              "      <td>0.003093</td>\n",
              "      <td>0.160203</td>\n",
              "      <td>0.766604</td>\n",
              "      <td>-0.036660</td>\n",
              "      <td>0.043637</td>\n",
              "      <td>-0.382045</td>\n",
              "      <td>1.000000</td>\n",
              "      <td>0.398799</td>\n",
              "      <td>0.038098</td>\n",
              "      <td>-0.549524</td>\n",
              "      <td>-0.002030</td>\n",
              "      <td>0.221659</td>\n",
              "    </tr>\n",
              "    <tr>\n",
              "      <th>Kendaraan_Rusak</th>\n",
              "      <td>0.003068</td>\n",
              "      <td>0.003068</td>\n",
              "      <td>0.092064</td>\n",
              "      <td>0.269755</td>\n",
              "      <td>-0.019149</td>\n",
              "      <td>0.026729</td>\n",
              "      <td>-0.826157</td>\n",
              "      <td>0.398799</td>\n",
              "      <td>1.000000</td>\n",
              "      <td>0.008673</td>\n",
              "      <td>-0.226667</td>\n",
              "      <td>-0.002023</td>\n",
              "      <td>0.353388</td>\n",
              "    </tr>\n",
              "    <tr>\n",
              "      <th>Premi</th>\n",
              "      <td>0.002145</td>\n",
              "      <td>0.002145</td>\n",
              "      <td>0.003023</td>\n",
              "      <td>0.063838</td>\n",
              "      <td>-0.012864</td>\n",
              "      <td>-0.012462</td>\n",
              "      <td>0.003988</td>\n",
              "      <td>0.038098</td>\n",
              "      <td>0.008673</td>\n",
              "      <td>1.000000</td>\n",
              "      <td>-0.112297</td>\n",
              "      <td>-0.001260</td>\n",
              "      <td>0.021890</td>\n",
              "    </tr>\n",
              "    <tr>\n",
              "      <th>Kanal_Penjualan</th>\n",
              "      <td>-0.001707</td>\n",
              "      <td>-0.001707</td>\n",
              "      <td>-0.114058</td>\n",
              "      <td>-0.576009</td>\n",
              "      <td>0.041575</td>\n",
              "      <td>-0.043988</td>\n",
              "      <td>0.221583</td>\n",
              "      <td>-0.549524</td>\n",
              "      <td>-0.226667</td>\n",
              "      <td>-0.112297</td>\n",
              "      <td>1.000000</td>\n",
              "      <td>0.000878</td>\n",
              "      <td>-0.140968</td>\n",
              "    </tr>\n",
              "    <tr>\n",
              "      <th>Lama_Berlangganan</th>\n",
              "      <td>0.002600</td>\n",
              "      <td>0.002600</td>\n",
              "      <td>-0.002175</td>\n",
              "      <td>-0.001032</td>\n",
              "      <td>0.001739</td>\n",
              "      <td>-0.003798</td>\n",
              "      <td>0.002902</td>\n",
              "      <td>-0.002030</td>\n",
              "      <td>-0.002023</td>\n",
              "      <td>-0.001260</td>\n",
              "      <td>0.000878</td>\n",
              "      <td>1.000000</td>\n",
              "      <td>0.002143</td>\n",
              "    </tr>\n",
              "    <tr>\n",
              "      <th>Tertarik</th>\n",
              "      <td>0.000004</td>\n",
              "      <td>0.000004</td>\n",
              "      <td>0.053709</td>\n",
              "      <td>0.108912</td>\n",
              "      <td>0.008675</td>\n",
              "      <td>0.011152</td>\n",
              "      <td>-0.340711</td>\n",
              "      <td>0.221659</td>\n",
              "      <td>0.353388</td>\n",
              "      <td>0.021890</td>\n",
              "      <td>-0.140968</td>\n",
              "      <td>0.002143</td>\n",
              "      <td>1.000000</td>\n",
              "    </tr>\n",
              "  </tbody>\n",
              "</table>\n",
              "</div>"
            ],
            "text/plain": [
              "                      index        id  ...  Lama_Berlangganan  Tertarik\n",
              "index              1.000000  1.000000  ...           0.002600  0.000004\n",
              "id                 1.000000  1.000000  ...           0.002600  0.000004\n",
              "Jenis_Kelamin     -0.002391 -0.002391  ...          -0.002175  0.053709\n",
              "Umur               0.003523  0.003523  ...          -0.001032  0.108912\n",
              "SIM               -0.004080 -0.004080  ...           0.001739  0.008675\n",
              "Kode_Daerah        0.000719  0.000719  ...          -0.003798  0.011152\n",
              "Sudah_Asuransi    -0.003694 -0.003694  ...           0.002902 -0.340711\n",
              "Umur_Kendaraan     0.003093  0.003093  ...          -0.002030  0.221659\n",
              "Kendaraan_Rusak    0.003068  0.003068  ...          -0.002023  0.353388\n",
              "Premi              0.002145  0.002145  ...          -0.001260  0.021890\n",
              "Kanal_Penjualan   -0.001707 -0.001707  ...           0.000878 -0.140968\n",
              "Lama_Berlangganan  0.002600  0.002600  ...           1.000000  0.002143\n",
              "Tertarik           0.000004  0.000004  ...           0.002143  1.000000\n",
              "\n",
              "[13 rows x 13 columns]"
            ]
          },
          "metadata": {},
          "execution_count": 95
        }
      ]
    },
    {
      "cell_type": "code",
      "metadata": {
        "id": "GeYWTvd9njPW"
      },
      "source": [
        "pilih_kolom = ['Umur_Kendaraan','Kendaraan_Rusak','Lama_Berlangganan','Sudah_Asuransi','Premi']\n",
        "df_X_train = df_training_model[pilih_kolom]\n",
        "df_y_train = df_training_model['Tertarik']"
      ],
      "execution_count": 96,
      "outputs": []
    },
    {
      "cell_type": "code",
      "metadata": {
        "id": "056oy18EgvJs"
      },
      "source": [
        "from sklearn.preprocessing import StandardScaler\n",
        "scaler = MinMaxScaler()\n",
        "df_X_train = scaler.fit_transform(df_X_train)"
      ],
      "execution_count": 110,
      "outputs": []
    },
    {
      "cell_type": "markdown",
      "metadata": {
        "id": "Ywz5vYRLL_CO"
      },
      "source": [
        "## **MODEL**"
      ]
    },
    {
      "cell_type": "code",
      "metadata": {
        "id": "_aaw1EqlBy1M"
      },
      "source": [
        "def euclidean_distance(titik1, titik2):\n",
        "    return np.sqrt(sum((titik1 - titik2)**2))"
      ],
      "execution_count": 111,
      "outputs": []
    },
    {
      "cell_type": "code",
      "metadata": {
        "colab": {
          "base_uri": "https://localhost:8080/"
        },
        "id": "BsCvhexCHgCb",
        "outputId": "3f8c75bb-ab77-473a-c28d-b3118b81654d"
      },
      "source": [
        "K = 2\n",
        "epoch = 100\n",
        "\n",
        "df = np.array(df_X_train)\n",
        "\n",
        "# Inisialisasi centorid\n",
        "old_centroid  =  {i : [np.random.choice(df[:,k]) for k in range(len(df[0]))] \n",
        "              for i in range(K)}\n",
        "\n",
        "# buat new centroid\n",
        "new_centroid = old_centroid.copy()\n",
        "\n",
        "# iterasi epoch\n",
        "epoch_i = 0\n",
        "# cek apakah centroid yg lama sama dengan centroid baru jika tidak akan bernilai false\n",
        "check =False\n",
        "# lakukan training\n",
        "while epoch_i <= epoch and check==False:\n",
        "  \n",
        "  # print centorid baru\n",
        "  print(f'Iterasi {epoch_i+1}')\n",
        "  for cent in new_centroid:\n",
        "    print(f'Centroid {cent} : \\n{new_centroid[cent]}')\n",
        "  print('\\n')\n",
        "\n",
        "  # mendefinisikan cluster dan Label\n",
        "  clustering = {i: [] for i in range(K)}\n",
        "  Label = []\n",
        "  \n",
        "  # mencari jarak centrodi ke titik\n",
        "  for titik in df:\n",
        "    dist = [euclidean_distance(titik, new_centroid[cent]) for cent in new_centroid]\n",
        "    clustering[np.argmin(dist)].append(list(titik))\n",
        "    Label.append(np.argmin(dist))\n",
        "  # menentukan centroid baru\n",
        "  old_centroid = new_centroid.copy()\n",
        "  for cl in clustering:\n",
        "    new_centroid[cl] = np.mean(clustering[cl], axis=0)\n",
        "\n",
        "  \n",
        "  # buat kondisi dimana jika centroid sebelumnya sama dengan centroid sekarang maka diberhentikan\n",
        "  for cent in old_centroid.keys():\n",
        "    if list(new_centroid.get(cent)) == list(old_centroid.get(cent)):\n",
        "      check = True\n",
        "  \n",
        "  # tambah 1 epoch_i\n",
        "  epoch_i = epoch_i + 1\n",
        "\n",
        "  "
      ],
      "execution_count": 112,
      "outputs": [
        {
          "output_type": "stream",
          "name": "stdout",
          "text": [
            "Iterasi 1\n",
            "Centroid 0 : \n",
            "[0.0, 0.0, 0.5328719723183392, 1.0, 0.0]\n",
            "Centroid 1 : \n",
            "[0.5, 0.0, 0.8685121107266437, 1.0, 0.06268615066925876]\n",
            "\n",
            "\n",
            "Iterasi 2\n",
            "Centroid 0 : \n",
            "[0.14196554 0.39057164 0.40361279 0.56826732 0.05111197]\n",
            "Centroid 1 : \n",
            "[0.55321059 0.67957924 0.64607737 0.29295867 0.05301135]\n",
            "\n",
            "\n",
            "Iterasi 3\n",
            "Centroid 0 : \n",
            "[0.17442159 0.04917536 0.48027984 0.89638091 0.05142742]\n",
            "Centroid 1 : \n",
            "[0.43436961 0.96249692 0.51812674 0.02053405 0.05229591]\n",
            "\n",
            "\n",
            "Iterasi 4\n",
            "Centroid 0 : \n",
            "[0.18097357 0.02065922 0.49386093 0.89157433 0.05143585]\n",
            "Centroid 1 : \n",
            "[0.42604453 0.98437282 0.50438808 0.03145233 0.05228144]\n",
            "\n",
            "\n",
            "Iterasi 5\n",
            "Centroid 0 : \n",
            "[0.18590662 0.02033977 0.49974923 0.87778805 0.05139542]\n",
            "Centroid 1 : \n",
            "[0.42487402 0.99995268 0.49852764 0.03195013 0.05233621]\n",
            "\n",
            "\n"
          ]
        }
      ]
    },
    {
      "cell_type": "code",
      "metadata": {
        "colab": {
          "base_uri": "https://localhost:8080/"
        },
        "id": "lIkmsrujUAx_",
        "outputId": "74c17966-ca70-4cc2-e396-0bcc47b6d531"
      },
      "source": [
        "df_y_train[:20]"
      ],
      "execution_count": 113,
      "outputs": [
        {
          "output_type": "execute_result",
          "data": {
            "text/plain": [
              "0     0\n",
              "1     0\n",
              "2     0\n",
              "3     0\n",
              "4     0\n",
              "5     0\n",
              "6     0\n",
              "7     0\n",
              "8     0\n",
              "9     0\n",
              "10    0\n",
              "11    1\n",
              "12    0\n",
              "13    0\n",
              "14    0\n",
              "15    0\n",
              "16    0\n",
              "17    0\n",
              "18    1\n",
              "19    0\n",
              "Name: Tertarik, dtype: int64"
            ]
          },
          "metadata": {},
          "execution_count": 113
        }
      ]
    },
    {
      "cell_type": "code",
      "metadata": {
        "colab": {
          "base_uri": "https://localhost:8080/"
        },
        "id": "vBe3KfvFUEfS",
        "outputId": "70447233-eef4-45dd-d987-f0f3cd72dce0"
      },
      "source": [
        "Label[:20]"
      ],
      "execution_count": 114,
      "outputs": [
        {
          "output_type": "execute_result",
          "data": {
            "text/plain": [
              "[0, 1, 0, 0, 0, 0, 0, 1, 0, 1, 0, 1, 0, 0, 0, 0, 1, 1, 1, 1]"
            ]
          },
          "metadata": {},
          "execution_count": 114
        }
      ]
    },
    {
      "cell_type": "code",
      "metadata": {
        "id": "veqw3spFZKB9"
      },
      "source": [
        "# ubahLabel = pd.DataFrame(data={'label':Label}).replace({1:0,0:1})['label']"
      ],
      "execution_count": 115,
      "outputs": []
    },
    {
      "cell_type": "markdown",
      "metadata": {
        "id": "QlUOK6VDL5y_"
      },
      "source": [
        "# **TEST**"
      ]
    },
    {
      "cell_type": "code",
      "metadata": {
        "id": "ui5km9skpzQN",
        "colab": {
          "base_uri": "https://localhost:8080/"
        },
        "outputId": "03bfd217-1e85-4973-d6e0-c9f6ea9f1e0e"
      },
      "source": [
        "from sklearn.metrics import classification_report\n",
        "print(classification_report(df_y_train,Label))"
      ],
      "execution_count": 123,
      "outputs": [
        {
          "output_type": "stream",
          "name": "stdout",
          "text": [
            "              precision    recall  f1-score   support\n",
            "\n",
            "           0       0.99      0.57      0.73    150270\n",
            "           1       0.24      0.98      0.39     20798\n",
            "\n",
            "    accuracy                           0.62    171068\n",
            "   macro avg       0.62      0.78      0.56    171068\n",
            "weighted avg       0.90      0.62      0.69    171068\n",
            "\n"
          ]
        }
      ]
    },
    {
      "cell_type": "markdown",
      "metadata": {
        "id": "uWLMu_xDjiW8"
      },
      "source": [
        "# **VISUALISASi**"
      ]
    },
    {
      "cell_type": "code",
      "metadata": {
        "id": "CDY20uZ9sCz_",
        "colab": {
          "base_uri": "https://localhost:8080/",
          "height": 297
        },
        "outputId": "9bc65f4a-0f27-48eb-85cb-12d57524f297"
      },
      "source": [
        "df_training_model['label_prediksi'] = Label\n",
        "sns.scatterplot(data=df_training_model, x=\"Premi\", y=\"Lama_Berlangganan\", hue=Label)"
      ],
      "execution_count": 129,
      "outputs": [
        {
          "output_type": "execute_result",
          "data": {
            "text/plain": [
              "<matplotlib.axes._subplots.AxesSubplot at 0x7fbfe2fdc090>"
            ]
          },
          "metadata": {},
          "execution_count": 129
        },
        {
          "output_type": "display_data",
          "data": {
            "image/png": "[encoded data removed]",
            "text/plain": [
              "<Figure size 432x288 with 1 Axes>"
            ]
          },
          "metadata": {
            "needs_background": "light"
          }
        }
      ]
    },
    {
      "cell_type": "code",
      "metadata": {
        "id": "vOjLI1ugkH_e"
      },
      "source": [
        ""
      ],
      "execution_count": null,
      "outputs": []
    }
  ]
}